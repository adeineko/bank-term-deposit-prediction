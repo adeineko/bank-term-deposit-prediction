{
 "cells": [
  {
   "metadata": {},
   "cell_type": "markdown",
   "source": [
    "# Model Evaluation and Hyperparameter Tuning Project\n",
    "\n",
    "In this project, we evaluate multiple machine learning models on a classification task and employ techniques like resampling to handle class imbalance. We compare the models based on accuracy, precision, recall, and F1 score."
   ],
   "id": "fe922704e1690ce3"
  },
  {
   "cell_type": "code",
   "id": "initial_id",
   "metadata": {
    "collapsed": true,
    "ExecuteTime": {
     "end_time": "2024-11-01T16:48:55.686377Z",
     "start_time": "2024-11-01T16:48:55.531378Z"
    }
   },
   "source": [
    "from sklearn.model_selection import train_test_split, GridSearchCV\n",
    "from sklearn.preprocessing import LabelEncoder, StandardScaler\n",
    "from sklearn.ensemble import RandomForestClassifier, GradientBoostingClassifier, ExtraTreesClassifier, StackingClassifier,VotingClassifier\n",
    "from sklearn.metrics import classification_report, confusion_matrix\n",
    "from xgboost import XGBClassifier\n",
    "from sklearn.tree import DecisionTreeClassifier\n",
    "from sklearn.neighbors import KNeighborsClassifier\n",
    "from sklearn.linear_model import LogisticRegression\n",
    "import lightgbm as lgb\n",
    "from sklearn.svm import SVC\n",
    "import warnings\n",
    "from catboost import CatBoostClassifier\n",
    "from imblearn.combine import SMOTEENN\n",
    "import pandas as pd\n",
    "\n",
    "warnings.filterwarnings('ignore')"
   ],
   "outputs": [],
   "execution_count": 32
  },
  {
   "metadata": {},
   "cell_type": "markdown",
   "source": "### Read data into dataframe",
   "id": "2da6435096cdd23b"
  },
  {
   "metadata": {
    "ExecuteTime": {
     "end_time": "2024-11-01T16:35:25.199Z",
     "start_time": "2024-11-01T16:35:25.182999Z"
    }
   },
   "cell_type": "code",
   "source": "df = pd.read_csv(\"../dataset/updated_bank.csv\");df",
   "id": "4c560a13f5ef7894",
   "outputs": [
    {
     "data": {
      "text/plain": [
       "      age           job   marital  education default  balance housing loan  \\\n",
       "0      30    unemployed   married    primary      no   1787.0      no   no   \n",
       "1      30    management   married   tertiary      no   1476.0     yes  yes   \n",
       "2      59   blue-collar   married  secondary      no      0.0     yes   no   \n",
       "3      39    technician   married  secondary      no    147.0     yes   no   \n",
       "4      41  entrepreneur   married   tertiary      no    221.0     yes   no   \n",
       "...   ...           ...       ...        ...     ...      ...     ...  ...   \n",
       "2398   33      services   married  secondary      no    288.0     yes   no   \n",
       "2399   42        admin.   married    unknown      no    642.0     yes  yes   \n",
       "2400   36    technician  divorced  secondary      no    566.0     yes   no   \n",
       "2401   49   blue-collar   married  secondary      no    322.0      no   no   \n",
       "2402   33      services   married  secondary      no   -333.0     yes   no   \n",
       "\n",
       "      day month  duration  campaign   y  contact_cellular  contact_telephone  \\\n",
       "0      19   oct        79         1  no              True              False   \n",
       "1       3   jun       199         4  no             False              False   \n",
       "2       5   may       226         1  no             False              False   \n",
       "3       6   may       151         2  no              True              False   \n",
       "4      14   may        57         2  no             False              False   \n",
       "...   ...   ...       ...       ...  ..               ...                ...   \n",
       "2398   17   apr       306         3  no              True              False   \n",
       "2399   16   may       509         2  no             False              False   \n",
       "2400   20   may       129         2  no             False              False   \n",
       "2401   14   aug       356         2  no              True              False   \n",
       "2402   30   jul       264         5  no              True              False   \n",
       "\n",
       "      contact_unknown  duration_contact_cellular  duration_contact_telephone  \\\n",
       "0               False                         79                           0   \n",
       "1                True                          0                           0   \n",
       "2                True                          0                           0   \n",
       "3               False                        151                           0   \n",
       "4                True                          0                           0   \n",
       "...               ...                        ...                         ...   \n",
       "2398            False                        306                           0   \n",
       "2399             True                          0                           0   \n",
       "2400             True                          0                           0   \n",
       "2401            False                        356                           0   \n",
       "2402            False                        264                           0   \n",
       "\n",
       "      duration_contact_unknown  above_median_duration  \n",
       "0                            0                      0  \n",
       "1                          199                      1  \n",
       "2                          226                      1  \n",
       "3                            0                      0  \n",
       "4                           57                      0  \n",
       "...                        ...                    ...  \n",
       "2398                         0                      1  \n",
       "2399                       509                      1  \n",
       "2400                       129                      0  \n",
       "2401                         0                      1  \n",
       "2402                         0                      1  \n",
       "\n",
       "[2403 rows x 20 columns]"
      ],
      "text/html": [
       "<div>\n",
       "<style scoped>\n",
       "    .dataframe tbody tr th:only-of-type {\n",
       "        vertical-align: middle;\n",
       "    }\n",
       "\n",
       "    .dataframe tbody tr th {\n",
       "        vertical-align: top;\n",
       "    }\n",
       "\n",
       "    .dataframe thead th {\n",
       "        text-align: right;\n",
       "    }\n",
       "</style>\n",
       "<table border=\"1\" class=\"dataframe\">\n",
       "  <thead>\n",
       "    <tr style=\"text-align: right;\">\n",
       "      <th></th>\n",
       "      <th>age</th>\n",
       "      <th>job</th>\n",
       "      <th>marital</th>\n",
       "      <th>education</th>\n",
       "      <th>default</th>\n",
       "      <th>balance</th>\n",
       "      <th>housing</th>\n",
       "      <th>loan</th>\n",
       "      <th>day</th>\n",
       "      <th>month</th>\n",
       "      <th>duration</th>\n",
       "      <th>campaign</th>\n",
       "      <th>y</th>\n",
       "      <th>contact_cellular</th>\n",
       "      <th>contact_telephone</th>\n",
       "      <th>contact_unknown</th>\n",
       "      <th>duration_contact_cellular</th>\n",
       "      <th>duration_contact_telephone</th>\n",
       "      <th>duration_contact_unknown</th>\n",
       "      <th>above_median_duration</th>\n",
       "    </tr>\n",
       "  </thead>\n",
       "  <tbody>\n",
       "    <tr>\n",
       "      <th>0</th>\n",
       "      <td>30</td>\n",
       "      <td>unemployed</td>\n",
       "      <td>married</td>\n",
       "      <td>primary</td>\n",
       "      <td>no</td>\n",
       "      <td>1787.0</td>\n",
       "      <td>no</td>\n",
       "      <td>no</td>\n",
       "      <td>19</td>\n",
       "      <td>oct</td>\n",
       "      <td>79</td>\n",
       "      <td>1</td>\n",
       "      <td>no</td>\n",
       "      <td>True</td>\n",
       "      <td>False</td>\n",
       "      <td>False</td>\n",
       "      <td>79</td>\n",
       "      <td>0</td>\n",
       "      <td>0</td>\n",
       "      <td>0</td>\n",
       "    </tr>\n",
       "    <tr>\n",
       "      <th>1</th>\n",
       "      <td>30</td>\n",
       "      <td>management</td>\n",
       "      <td>married</td>\n",
       "      <td>tertiary</td>\n",
       "      <td>no</td>\n",
       "      <td>1476.0</td>\n",
       "      <td>yes</td>\n",
       "      <td>yes</td>\n",
       "      <td>3</td>\n",
       "      <td>jun</td>\n",
       "      <td>199</td>\n",
       "      <td>4</td>\n",
       "      <td>no</td>\n",
       "      <td>False</td>\n",
       "      <td>False</td>\n",
       "      <td>True</td>\n",
       "      <td>0</td>\n",
       "      <td>0</td>\n",
       "      <td>199</td>\n",
       "      <td>1</td>\n",
       "    </tr>\n",
       "    <tr>\n",
       "      <th>2</th>\n",
       "      <td>59</td>\n",
       "      <td>blue-collar</td>\n",
       "      <td>married</td>\n",
       "      <td>secondary</td>\n",
       "      <td>no</td>\n",
       "      <td>0.0</td>\n",
       "      <td>yes</td>\n",
       "      <td>no</td>\n",
       "      <td>5</td>\n",
       "      <td>may</td>\n",
       "      <td>226</td>\n",
       "      <td>1</td>\n",
       "      <td>no</td>\n",
       "      <td>False</td>\n",
       "      <td>False</td>\n",
       "      <td>True</td>\n",
       "      <td>0</td>\n",
       "      <td>0</td>\n",
       "      <td>226</td>\n",
       "      <td>1</td>\n",
       "    </tr>\n",
       "    <tr>\n",
       "      <th>3</th>\n",
       "      <td>39</td>\n",
       "      <td>technician</td>\n",
       "      <td>married</td>\n",
       "      <td>secondary</td>\n",
       "      <td>no</td>\n",
       "      <td>147.0</td>\n",
       "      <td>yes</td>\n",
       "      <td>no</td>\n",
       "      <td>6</td>\n",
       "      <td>may</td>\n",
       "      <td>151</td>\n",
       "      <td>2</td>\n",
       "      <td>no</td>\n",
       "      <td>True</td>\n",
       "      <td>False</td>\n",
       "      <td>False</td>\n",
       "      <td>151</td>\n",
       "      <td>0</td>\n",
       "      <td>0</td>\n",
       "      <td>0</td>\n",
       "    </tr>\n",
       "    <tr>\n",
       "      <th>4</th>\n",
       "      <td>41</td>\n",
       "      <td>entrepreneur</td>\n",
       "      <td>married</td>\n",
       "      <td>tertiary</td>\n",
       "      <td>no</td>\n",
       "      <td>221.0</td>\n",
       "      <td>yes</td>\n",
       "      <td>no</td>\n",
       "      <td>14</td>\n",
       "      <td>may</td>\n",
       "      <td>57</td>\n",
       "      <td>2</td>\n",
       "      <td>no</td>\n",
       "      <td>False</td>\n",
       "      <td>False</td>\n",
       "      <td>True</td>\n",
       "      <td>0</td>\n",
       "      <td>0</td>\n",
       "      <td>57</td>\n",
       "      <td>0</td>\n",
       "    </tr>\n",
       "    <tr>\n",
       "      <th>...</th>\n",
       "      <td>...</td>\n",
       "      <td>...</td>\n",
       "      <td>...</td>\n",
       "      <td>...</td>\n",
       "      <td>...</td>\n",
       "      <td>...</td>\n",
       "      <td>...</td>\n",
       "      <td>...</td>\n",
       "      <td>...</td>\n",
       "      <td>...</td>\n",
       "      <td>...</td>\n",
       "      <td>...</td>\n",
       "      <td>...</td>\n",
       "      <td>...</td>\n",
       "      <td>...</td>\n",
       "      <td>...</td>\n",
       "      <td>...</td>\n",
       "      <td>...</td>\n",
       "      <td>...</td>\n",
       "      <td>...</td>\n",
       "    </tr>\n",
       "    <tr>\n",
       "      <th>2398</th>\n",
       "      <td>33</td>\n",
       "      <td>services</td>\n",
       "      <td>married</td>\n",
       "      <td>secondary</td>\n",
       "      <td>no</td>\n",
       "      <td>288.0</td>\n",
       "      <td>yes</td>\n",
       "      <td>no</td>\n",
       "      <td>17</td>\n",
       "      <td>apr</td>\n",
       "      <td>306</td>\n",
       "      <td>3</td>\n",
       "      <td>no</td>\n",
       "      <td>True</td>\n",
       "      <td>False</td>\n",
       "      <td>False</td>\n",
       "      <td>306</td>\n",
       "      <td>0</td>\n",
       "      <td>0</td>\n",
       "      <td>1</td>\n",
       "    </tr>\n",
       "    <tr>\n",
       "      <th>2399</th>\n",
       "      <td>42</td>\n",
       "      <td>admin.</td>\n",
       "      <td>married</td>\n",
       "      <td>unknown</td>\n",
       "      <td>no</td>\n",
       "      <td>642.0</td>\n",
       "      <td>yes</td>\n",
       "      <td>yes</td>\n",
       "      <td>16</td>\n",
       "      <td>may</td>\n",
       "      <td>509</td>\n",
       "      <td>2</td>\n",
       "      <td>no</td>\n",
       "      <td>False</td>\n",
       "      <td>False</td>\n",
       "      <td>True</td>\n",
       "      <td>0</td>\n",
       "      <td>0</td>\n",
       "      <td>509</td>\n",
       "      <td>1</td>\n",
       "    </tr>\n",
       "    <tr>\n",
       "      <th>2400</th>\n",
       "      <td>36</td>\n",
       "      <td>technician</td>\n",
       "      <td>divorced</td>\n",
       "      <td>secondary</td>\n",
       "      <td>no</td>\n",
       "      <td>566.0</td>\n",
       "      <td>yes</td>\n",
       "      <td>no</td>\n",
       "      <td>20</td>\n",
       "      <td>may</td>\n",
       "      <td>129</td>\n",
       "      <td>2</td>\n",
       "      <td>no</td>\n",
       "      <td>False</td>\n",
       "      <td>False</td>\n",
       "      <td>True</td>\n",
       "      <td>0</td>\n",
       "      <td>0</td>\n",
       "      <td>129</td>\n",
       "      <td>0</td>\n",
       "    </tr>\n",
       "    <tr>\n",
       "      <th>2401</th>\n",
       "      <td>49</td>\n",
       "      <td>blue-collar</td>\n",
       "      <td>married</td>\n",
       "      <td>secondary</td>\n",
       "      <td>no</td>\n",
       "      <td>322.0</td>\n",
       "      <td>no</td>\n",
       "      <td>no</td>\n",
       "      <td>14</td>\n",
       "      <td>aug</td>\n",
       "      <td>356</td>\n",
       "      <td>2</td>\n",
       "      <td>no</td>\n",
       "      <td>True</td>\n",
       "      <td>False</td>\n",
       "      <td>False</td>\n",
       "      <td>356</td>\n",
       "      <td>0</td>\n",
       "      <td>0</td>\n",
       "      <td>1</td>\n",
       "    </tr>\n",
       "    <tr>\n",
       "      <th>2402</th>\n",
       "      <td>33</td>\n",
       "      <td>services</td>\n",
       "      <td>married</td>\n",
       "      <td>secondary</td>\n",
       "      <td>no</td>\n",
       "      <td>-333.0</td>\n",
       "      <td>yes</td>\n",
       "      <td>no</td>\n",
       "      <td>30</td>\n",
       "      <td>jul</td>\n",
       "      <td>264</td>\n",
       "      <td>5</td>\n",
       "      <td>no</td>\n",
       "      <td>True</td>\n",
       "      <td>False</td>\n",
       "      <td>False</td>\n",
       "      <td>264</td>\n",
       "      <td>0</td>\n",
       "      <td>0</td>\n",
       "      <td>1</td>\n",
       "    </tr>\n",
       "  </tbody>\n",
       "</table>\n",
       "<p>2403 rows × 20 columns</p>\n",
       "</div>"
      ]
     },
     "execution_count": 17,
     "metadata": {},
     "output_type": "execute_result"
    }
   ],
   "execution_count": 17
  },
  {
   "metadata": {},
   "cell_type": "markdown",
   "source": [
    "## Data Preparation\n",
    "\n",
    "The data is split into training and test sets. "
   ],
   "id": "a9cde4a4816ee964"
  },
  {
   "metadata": {
    "ExecuteTime": {
     "end_time": "2024-11-01T16:35:27.169391Z",
     "start_time": "2024-11-01T16:35:27.143391Z"
    }
   },
   "cell_type": "code",
   "source": [
    "X = df.drop(\"y\", axis=1)\n",
    "y = df[\"y\"]\n",
    "\n",
    "label_enc = LabelEncoder()\n",
    "\n",
    "for column in X.select_dtypes(include=['object']).columns:\n",
    "    X[column] = label_enc.fit_transform(X[column])\n",
    "\n",
    "\n",
    "X_train, X_test, y_train, y_test = train_test_split(X, y, test_size=0.3, random_state=42, stratify=y)\n",
    "\n",
    "\n",
    "scaler = StandardScaler()\n",
    "X_train = scaler.fit_transform(X_train)\n",
    "X_test = scaler.transform(X_test)\n"
   ],
   "id": "cc9f3a0ec4de6567",
   "outputs": [],
   "execution_count": 18
  },
  {
   "metadata": {},
   "cell_type": "markdown",
   "source": "### Random Forest",
   "id": "ce6ab55718424e01"
  },
  {
   "metadata": {
    "ExecuteTime": {
     "end_time": "2024-11-01T16:35:29.236574Z",
     "start_time": "2024-11-01T16:35:29.087573Z"
    }
   },
   "cell_type": "code",
   "source": [
    "rf_model = RandomForestClassifier(random_state=42)\n",
    "rf_model.fit(X_train, y_train)\n",
    "y_pred_rf = rf_model.predict(X_test)\n",
    "\n",
    "\n",
    "conf_matrix_random_forest = confusion_matrix(y_test, y_pred_rf)\n",
    "\n",
    "print(conf_matrix_random_forest)\n",
    "\n",
    "report_random_forest = classification_report(y_test, y_pred_rf)\n",
    "\n",
    "print(report_random_forest)"
   ],
   "id": "31e734aaebccf88d",
   "outputs": [
    {
     "name": "stdout",
     "output_type": "stream",
     "text": [
      "[[683   4]\n",
      " [ 33   1]]\n",
      "              precision    recall  f1-score   support\n",
      "\n",
      "          no       0.95      0.99      0.97       687\n",
      "         yes       0.20      0.03      0.05        34\n",
      "\n",
      "    accuracy                           0.95       721\n",
      "   macro avg       0.58      0.51      0.51       721\n",
      "weighted avg       0.92      0.95      0.93       721\n",
      "\n"
     ]
    }
   ],
   "execution_count": 19
  },
  {
   "metadata": {},
   "cell_type": "markdown",
   "source": "### Gradient boosting",
   "id": "d4763c7d8dd0b4fe"
  },
  {
   "metadata": {
    "ExecuteTime": {
     "end_time": "2024-11-01T16:35:31.925712Z",
     "start_time": "2024-11-01T16:35:31.707689Z"
    }
   },
   "cell_type": "code",
   "source": [
    "gb_model = GradientBoostingClassifier(random_state=42)\n",
    "gb_model.fit(X_train, y_train)\n",
    "y_pred_gb = gb_model.predict(X_test)\n",
    "\n",
    "conf_matrix_gradient_boosting = confusion_matrix(y_test, y_pred_gb)\n",
    "\n",
    "print(conf_matrix_gradient_boosting)\n",
    "\n",
    "report_gradient_boosting = classification_report(y_test, y_pred_gb)\n",
    "\n",
    "print(report_gradient_boosting)"
   ],
   "id": "6d05bea0bcd3632c",
   "outputs": [
    {
     "name": "stdout",
     "output_type": "stream",
     "text": [
      "[[680   7]\n",
      " [ 31   3]]\n",
      "              precision    recall  f1-score   support\n",
      "\n",
      "          no       0.96      0.99      0.97       687\n",
      "         yes       0.30      0.09      0.14        34\n",
      "\n",
      "    accuracy                           0.95       721\n",
      "   macro avg       0.63      0.54      0.55       721\n",
      "weighted avg       0.93      0.95      0.93       721\n",
      "\n"
     ]
    }
   ],
   "execution_count": 20
  },
  {
   "metadata": {},
   "cell_type": "markdown",
   "source": "",
   "id": "8b62ac5d388d3673"
  },
  {
   "metadata": {},
   "cell_type": "markdown",
   "source": "### Hyperparameter tuning for Gradient Boosting",
   "id": "3734f12fff8940fd"
  },
  {
   "metadata": {
    "ExecuteTime": {
     "end_time": "2024-11-01T16:36:43.370920Z",
     "start_time": "2024-11-01T16:35:34.628396Z"
    }
   },
   "cell_type": "code",
   "source": [
    "\n",
    "gb_param_grid = {\n",
    "    'n_estimators': [100, 200],\n",
    "    'learning_rate': [0.01, 0.1, 0.2],\n",
    "    'max_depth': [3, 5, 7],\n",
    "    'subsample': [0.8, 1.0]\n",
    "}\n",
    "\n",
    "gb_grid_search = GridSearchCV(GradientBoostingClassifier(random_state=42), gb_param_grid, cv=5, scoring='accuracy')\n",
    "gb_grid_search.fit(X_train, y_train)\n",
    "\n",
    "# Best Gradient Boosting model\n",
    "best_gb_model = gb_grid_search.best_estimator_"
   ],
   "id": "e60359a7b6547b88",
   "outputs": [],
   "execution_count": 21
  },
  {
   "metadata": {},
   "cell_type": "markdown",
   "source": "### Results of Gradient Boosting with Hyperparameter tuning",
   "id": "767dc2566cf70545"
  },
  {
   "metadata": {
    "ExecuteTime": {
     "end_time": "2024-11-01T16:38:02.445699Z",
     "start_time": "2024-11-01T16:38:02.233187Z"
    }
   },
   "cell_type": "code",
   "source": [
    "best_gb_model.fit(X_train, y_train)\n",
    "y_pred_gb = best_gb_model.predict(X_test)\n",
    "\n",
    "conf_matrix_gradient_boosting_with_hpt = confusion_matrix(y_test, y_pred_gb)\n",
    "\n",
    "print(conf_matrix_gradient_boosting_with_hpt)\n",
    "\n",
    "report_gradient_boosting_with_hpt = classification_report(y_test, y_pred_gb)\n",
    "\n",
    "print(report_gradient_boosting_with_hpt)"
   ],
   "id": "6638144fe35cacd9",
   "outputs": [
    {
     "name": "stdout",
     "output_type": "stream",
     "text": [
      "[[680   7]\n",
      " [ 31   3]]\n",
      "              precision    recall  f1-score   support\n",
      "\n",
      "          no       0.96      0.99      0.97       687\n",
      "         yes       0.30      0.09      0.14        34\n",
      "\n",
      "    accuracy                           0.95       721\n",
      "   macro avg       0.63      0.54      0.55       721\n",
      "weighted avg       0.93      0.95      0.93       721\n",
      "\n"
     ]
    }
   ],
   "execution_count": 22
  },
  {
   "metadata": {},
   "cell_type": "markdown",
   "source": "### Model 3: Decision Tree Classifier",
   "id": "e3c808c35490754b"
  },
  {
   "metadata": {
    "ExecuteTime": {
     "end_time": "2024-11-01T16:38:05.839137Z",
     "start_time": "2024-11-01T16:38:05.814640Z"
    }
   },
   "cell_type": "code",
   "source": [
    "# Model 3: Decision Tree Classifier\n",
    "dt_model = DecisionTreeClassifier(random_state=42)\n",
    "dt_model.fit(X_train, y_train)\n",
    "y_pred_dt = dt_model.predict(X_test)\n",
    "\n",
    "conf_matrix_decision_tree = confusion_matrix(y_test, y_pred_dt)\n",
    "report_decision_tree = classification_report(y_test, y_pred_dt)\n",
    "\n",
    "print(\"Decision Tree Classifier Report:\")\n",
    "print(conf_matrix_decision_tree)\n",
    "print(report_decision_tree)\n"
   ],
   "id": "7c793244e6ad3715",
   "outputs": [
    {
     "name": "stdout",
     "output_type": "stream",
     "text": [
      "Decision Tree Classifier Report:\n",
      "[[655  32]\n",
      " [ 25   9]]\n",
      "              precision    recall  f1-score   support\n",
      "\n",
      "          no       0.96      0.95      0.96       687\n",
      "         yes       0.22      0.26      0.24        34\n",
      "\n",
      "    accuracy                           0.92       721\n",
      "   macro avg       0.59      0.61      0.60       721\n",
      "weighted avg       0.93      0.92      0.92       721\n",
      "\n"
     ]
    }
   ],
   "execution_count": 23
  },
  {
   "metadata": {},
   "cell_type": "markdown",
   "source": "### Models for stacking ensemble",
   "id": "b6925e59a555c41f"
  },
  {
   "metadata": {
    "ExecuteTime": {
     "end_time": "2024-11-01T16:38:11.907300Z",
     "start_time": "2024-11-01T16:38:11.891298Z"
    }
   },
   "cell_type": "code",
   "source": [
    "base_models = [\n",
    "    ('rf', RandomForestClassifier(random_state=42)),\n",
    "    ('gb', best_gb_model),  # Using the best Gradient Boosting model found\n",
    "    ('svc', SVC(probability=True, random_state=42)),  # Support Vector Classifier\n",
    "    ('knn', KNeighborsClassifier()),  # K-Nearest Neighbors\n",
    "    ('xgb', XGBClassifier(random_state=42)),  # XGBoost Classifier\n",
    "    ('et', ExtraTreesClassifier(random_state=42))  # Extra Trees Classifier\n",
    "]"
   ],
   "id": "d3222e30626f1863",
   "outputs": [],
   "execution_count": 24
  },
  {
   "metadata": {},
   "cell_type": "markdown",
   "source": [
    "### Stacking with HPT. 6 models :\n",
    "* Random Forest\n",
    "* Gradient Boosting with HPT.\n",
    "* K - Nearest Neighbors\n",
    "* XGBoost Classifier\n",
    "* Extra trees classifier"
   ],
   "id": "16847b11c61cd733"
  },
  {
   "metadata": {
    "ExecuteTime": {
     "end_time": "2024-11-01T16:39:54.578185Z",
     "start_time": "2024-11-01T16:38:14.540126Z"
    }
   },
   "cell_type": "code",
   "source": [
    "meta_model = GradientBoostingClassifier()\n",
    "\n",
    "# Stacking classifier with Gradient Boosting as the final estimator\n",
    "stacking_model = StackingClassifier(estimators=base_models, final_estimator=meta_model, cv=5)\n",
    "\n",
    "# Hyperparameter tuning for Gradient Boosting meta model\n",
    "stacking_param_grid = {\n",
    "    'final_estimator__learning_rate': [0.01, 0.1],\n",
    "    'final_estimator__n_estimators': [50, 100],\n",
    "    'final_estimator__max_depth': [3, 4]\n",
    "}\n",
    "\n",
    "# GridSearchCV to find the best parameters for the stacking ensemble with Gradient Boosting\n",
    "stacking_grid_search = GridSearchCV(stacking_model, stacking_param_grid, cv=5, scoring='accuracy')\n",
    "stacking_grid_search.fit(X_train, y_train)\n",
    "\n",
    "# Best Stacking model\n",
    "best_stacking_model = stacking_grid_search.best_estimator_\n",
    "print(\"Best parameters for Stacking: \", stacking_grid_search.best_params_)\n",
    "\n",
    "# Make predictions and evaluate the best Stacking model\n",
    "y_pred_stack = best_stacking_model.predict(X_test)\n",
    "conf_matrix_stacking = confusion_matrix(y_test, y_pred_stack)\n",
    "report_stacking = classification_report(y_test, y_pred_stack)\n",
    "\n",
    "# Print confusion matrix and classification report\n",
    "print(conf_matrix_stacking)\n",
    "print(report_stacking)"
   ],
   "id": "9a3e33bc298bfa2d",
   "outputs": [
    {
     "name": "stdout",
     "output_type": "stream",
     "text": [
      "Best parameters for Stacking:  {'final_estimator__learning_rate': 0.01, 'final_estimator__max_depth': 4, 'final_estimator__n_estimators': 100}\n",
      "[[683   4]\n",
      " [ 34   0]]\n",
      "              precision    recall  f1-score   support\n",
      "\n",
      "          no       0.95      0.99      0.97       687\n",
      "         yes       0.00      0.00      0.00        34\n",
      "\n",
      "    accuracy                           0.95       721\n",
      "   macro avg       0.48      0.50      0.49       721\n",
      "weighted avg       0.91      0.95      0.93       721\n",
      "\n"
     ]
    }
   ],
   "execution_count": 25
  },
  {
   "metadata": {},
   "cell_type": "markdown",
   "source": "### Stacking with HPT for all 6 models",
   "id": "422b7545b00fc0ef"
  },
  {
   "metadata": {
    "ExecuteTime": {
     "end_time": "2024-11-01T16:44:04.994752Z",
     "start_time": "2024-11-01T16:40:10.351115Z"
    }
   },
   "cell_type": "code",
   "source": [
    "stacking_clf = StackingClassifier(estimators=base_models, final_estimator=meta_model)\n",
    "\n",
    "param_grid = {\n",
    "    'rf__n_estimators': [50, 100],\n",
    "    'rf__max_depth': [None, 10, 15],\n",
    "    'gb__n_estimators': [50, 100],\n",
    "    'gb__learning_rate': [0.01, 0.1],\n",
    "    'svc__C': [0.1, 1],\n",
    "    'knn__n_neighbors': [3, 5],\n",
    "    'xgb__max_depth': [3, 5],\n",
    "    'xgb__n_estimators': [50, 100],\n",
    "}\n",
    "\n",
    "grid_search = GridSearchCV(estimator=stacking_clf, param_grid=param_grid, cv=3, scoring='f1', n_jobs=-1)\n",
    "\n",
    "# Fit the model with hyperparameter tuning\n",
    "grid_search.fit(X_train, y_train)\n",
    "\n",
    "# Best model\n",
    "best_model = grid_search.best_estimator_\n",
    "\n",
    "# Make predictions\n",
    "y_pred = best_model.predict(X_test)\n",
    "\n",
    "# Evaluate the model\n",
    "print(confusion_matrix(y_test, y_pred))\n",
    "print(classification_report(y_test, y_pred))\n",
    "\n",
    "# Print the best parameters\n",
    "print(\"Best parameters found: \", grid_search.best_params_)"
   ],
   "id": "9b6a3447f679eff6",
   "outputs": [
    {
     "name": "stdout",
     "output_type": "stream",
     "text": [
      "[[673  14]\n",
      " [ 33   1]]\n",
      "              precision    recall  f1-score   support\n",
      "\n",
      "          no       0.95      0.98      0.97       687\n",
      "         yes       0.07      0.03      0.04        34\n",
      "\n",
      "    accuracy                           0.93       721\n",
      "   macro avg       0.51      0.50      0.50       721\n",
      "weighted avg       0.91      0.93      0.92       721\n",
      "\n",
      "Best parameters found:  {'gb__learning_rate': 0.01, 'gb__n_estimators': 50, 'knn__n_neighbors': 3, 'rf__max_depth': None, 'rf__n_estimators': 50, 'svc__C': 0.1, 'xgb__max_depth': 3, 'xgb__n_estimators': 50}\n"
     ]
    }
   ],
   "execution_count": 26
  },
  {
   "metadata": {},
   "cell_type": "markdown",
   "source": "### Voting Classifier",
   "id": "266b3c45a6e58131"
  },
  {
   "metadata": {
    "ExecuteTime": {
     "end_time": "2024-11-01T16:46:23.727421Z",
     "start_time": "2024-11-01T16:46:23.345904Z"
    }
   },
   "cell_type": "code",
   "source": [
    "voting_clf = VotingClassifier(\n",
    "    estimators=[\n",
    "        ('rf', rf_model),\n",
    "        ('gb', gb_model),\n",
    "        ('dt', dt_model)\n",
    "    ],\n",
    "    voting='hard'  # Use 'soft' for probabilistic voting if desired\n",
    ")\n",
    "\n",
    "# Fit the Voting Classifier\n",
    "voting_clf.fit(X_train, y_train)\n",
    "\n",
    "# Make predictions\n",
    "y_pred_voting = voting_clf.predict(X_test)\n",
    "\n",
    "# Evaluate the Voting Classifier\n",
    "conf_matrix_voting = confusion_matrix(y_test, y_pred_voting)\n",
    "report_voting = classification_report(y_test, y_pred_voting)\n",
    "\n",
    "print(\"Voting Classifier Report:\")\n",
    "print(report_voting)\n"
   ],
   "id": "9bb2b45379abde8",
   "outputs": [
    {
     "name": "stdout",
     "output_type": "stream",
     "text": [
      "Voting Classifier Report:\n",
      "              precision    recall  f1-score   support\n",
      "\n",
      "          no       0.96      0.99      0.97       687\n",
      "         yes       0.25      0.06      0.10        34\n",
      "\n",
      "    accuracy                           0.95       721\n",
      "   macro avg       0.60      0.53      0.53       721\n",
      "weighted avg       0.92      0.95      0.93       721\n",
      "\n"
     ]
    }
   ],
   "execution_count": 27
  },
  {
   "metadata": {},
   "cell_type": "markdown",
   "source": " To handle class imbalance, we use **SMOTE combined with Edited Nearest Neighbors (ENN)**, an oversampling technique that creates synthetic samples and removes overlapping samples.",
   "id": "6c6f78cd1f321706"
  },
  {
   "metadata": {
    "ExecuteTime": {
     "end_time": "2024-11-01T16:46:35.668115Z",
     "start_time": "2024-11-01T16:46:31.108260Z"
    }
   },
   "cell_type": "code",
   "source": [
    "# Handle class imbalance using SMOTE combined with ENN\n",
    "smote_enn = SMOTEENN(random_state=42)\n",
    "X_train_res, y_train_res = smote_enn.fit_resample(X_train, y_train)\n",
    "\n",
    "# Initialize models with class weights\n",
    "rf_model = RandomForestClassifier(random_state=42, class_weight='balanced')\n",
    "gb_model = GradientBoostingClassifier(random_state=42)\n",
    "dt_model = DecisionTreeClassifier(random_state=42, class_weight='balanced')\n",
    "log_model = LogisticRegression(max_iter=1000, class_weight='balanced')\n",
    "\n",
    "# Voting Classifier as an alternative ensemble method\n",
    "voting_clf = VotingClassifier(\n",
    "    estimators=[\n",
    "        ('rf', rf_model),\n",
    "        ('gb', gb_model),\n",
    "        ('dt', dt_model),\n",
    "        ('log', log_model)\n",
    "    ],\n",
    "    voting='soft'  # Using soft voting to improve performance\n",
    ")\n",
    "\n",
    "# Fit the Voting Classifier\n",
    "voting_clf.fit(X_train_res, y_train_res)\n",
    "\n",
    "# Make predictions\n",
    "y_pred_voting = voting_clf.predict(X_test)\n",
    "\n",
    "# Evaluate the Voting Classifier\n",
    "print(\"Voting Classifier Report:\")\n",
    "print(classification_report(y_test, y_pred_voting))"
   ],
   "id": "6c2c1c59f1d1ed0d",
   "outputs": [
    {
     "name": "stdout",
     "output_type": "stream",
     "text": [
      "Voting Classifier Report:\n",
      "              precision    recall  f1-score   support\n",
      "\n",
      "          no       0.97      0.88      0.93       687\n",
      "         yes       0.18      0.53      0.27        34\n",
      "\n",
      "    accuracy                           0.87       721\n",
      "   macro avg       0.58      0.71      0.60       721\n",
      "weighted avg       0.94      0.87      0.89       721\n",
      "\n"
     ]
    }
   ],
   "execution_count": 28
  },
  {
   "metadata": {},
   "cell_type": "markdown",
   "source": "### XGBoost with SMOTE and ENN",
   "id": "c1e92531a9648ad1"
  },
  {
   "metadata": {
    "ExecuteTime": {
     "end_time": "2024-11-01T16:48:42.640266Z",
     "start_time": "2024-11-01T16:48:42.548759Z"
    }
   },
   "cell_type": "code",
   "source": [
    "# Convert boolean columns to integer (0 and 1)\n",
    "X['contact_cellular'] = X['contact_cellular'].astype(int)\n",
    "X['contact_telephone'] = X['contact_telephone'].astype(int)\n",
    "X['contact_unknown'] = X['contact_unknown'].astype(int)\n",
    "\n",
    "# Label encode the target variable y, if it's categorical (e.g., 'yes', 'no')\n",
    "if y.dtype == 'object':\n",
    "    y = label_enc.fit_transform(y)\n",
    "\n",
    "# Split the dataset after ensuring it's numeric\n",
    "X_train, X_test, y_train, y_test = train_test_split(X, y, test_size=0.3, random_state=42, stratify=y)\n",
    "\n",
    "# Handle class imbalance using SMOTE combined with ENN\n",
    "smote_enn = SMOTEENN(random_state=42)\n",
    "X_train_res, y_train_res = smote_enn.fit_resample(X_train, y_train)\n",
    "\n",
    "# Initialize the XGBoost model with scale_pos_weight to handle class imbalance\n",
    "pos_class_weight = (len(y_train_res) - sum(y_train_res)) / sum(y_train_res)\n",
    "xgb_model = XGBClassifier(random_state=42, scale_pos_weight=pos_class_weight)\n",
    "\n",
    "# Fit the XGBoost model\n",
    "xgb_model.fit(X_train_res, y_train_res)\n",
    "\n",
    "# Make predictions\n",
    "y_pred_xgb = xgb_model.predict(X_test)\n",
    "\n",
    "# Evaluate the model\n",
    "print(\"XGBoost Classifier Report:\")\n",
    "print(classification_report(y_test, y_pred_xgb))"
   ],
   "id": "75023b028294ca86",
   "outputs": [
    {
     "name": "stdout",
     "output_type": "stream",
     "text": [
      "XGBoost Classifier Report:\n",
      "              precision    recall  f1-score   support\n",
      "\n",
      "           0       0.97      0.89      0.93       687\n",
      "           1       0.17      0.44      0.24        34\n",
      "\n",
      "    accuracy                           0.87       721\n",
      "   macro avg       0.57      0.67      0.59       721\n",
      "weighted avg       0.93      0.87      0.90       721\n",
      "\n"
     ]
    }
   ],
   "execution_count": 30
  },
  {
   "metadata": {},
   "cell_type": "markdown",
   "source": "### LightGBM",
   "id": "ffe95cf5a4473b0b"
  },
  {
   "metadata": {
    "ExecuteTime": {
     "end_time": "2024-11-01T16:49:01.971411Z",
     "start_time": "2024-11-01T16:49:01.915903Z"
    }
   },
   "cell_type": "code",
   "source": [
    "# Initialize the LightGBM model with class_weight='balanced'\n",
    "lgb_model = lgb.LGBMClassifier(random_state=42, class_weight='balanced')\n",
    "\n",
    "# Fit the LightGBM model\n",
    "lgb_model.fit(X_train_res, y_train_res)\n",
    "\n",
    "# Make predictions\n",
    "y_pred_lgb = lgb_model.predict(X_test)\n",
    "\n",
    "# Evaluate the model\n",
    "print(\"LightGBM Classifier Report:\")\n",
    "print(classification_report(y_test, y_pred_lgb))"
   ],
   "id": "dbde08140a8f5cff",
   "outputs": [
    {
     "name": "stdout",
     "output_type": "stream",
     "text": [
      "[LightGBM] [Info] Number of positive: 1355, number of negative: 1175\n",
      "[LightGBM] [Info] Auto-choosing row-wise multi-threading, the overhead of testing was 0.000165 seconds.\n",
      "You can set `force_row_wise=true` to remove the overhead.\n",
      "And if memory is not enough, you can set `force_col_wise=true`.\n",
      "[LightGBM] [Info] Total Bins 1181\n",
      "[LightGBM] [Info] Number of data points in the train set: 2530, number of used features: 19\n",
      "[LightGBM] [Info] [binary:BoostFromScore]: pavg=0.500000 -> initscore=-0.000000\n",
      "[LightGBM] [Info] Start training from score -0.000000\n",
      "LightGBM Classifier Report:\n",
      "              precision    recall  f1-score   support\n",
      "\n",
      "           0       0.97      0.90      0.93       687\n",
      "           1       0.17      0.44      0.25        34\n",
      "\n",
      "    accuracy                           0.87       721\n",
      "   macro avg       0.57      0.67      0.59       721\n",
      "weighted avg       0.93      0.87      0.90       721\n",
      "\n"
     ]
    }
   ],
   "execution_count": 33
  },
  {
   "metadata": {},
   "cell_type": "markdown",
   "source": "### CatBoost Classifier",
   "id": "26ebf187ed7ad562"
  },
  {
   "metadata": {
    "ExecuteTime": {
     "end_time": "2024-11-01T16:49:11.122949Z",
     "start_time": "2024-11-01T16:49:04.811294Z"
    }
   },
   "cell_type": "code",
   "source": [
    "# Initialize the CatBoost model with auto_class_weights\n",
    "cat_model = CatBoostClassifier(random_state=42, auto_class_weights='Balanced', verbose=0)\n",
    "\n",
    "# Fit the CatBoost model\n",
    "cat_model.fit(X_train_res, y_train_res)\n",
    "\n",
    "# Make predictions\n",
    "y_pred_cat = cat_model.predict(X_test)\n",
    "\n",
    "# Evaluate the model\n",
    "print(\"CatBoost Classifier Report:\")\n",
    "print(classification_report(y_test, y_pred_cat))"
   ],
   "id": "f0c79357028d935c",
   "outputs": [
    {
     "name": "stdout",
     "output_type": "stream",
     "text": [
      "CatBoost Classifier Report:\n",
      "              precision    recall  f1-score   support\n",
      "\n",
      "           0       0.97      0.89      0.93       687\n",
      "           1       0.19      0.50      0.27        34\n",
      "\n",
      "    accuracy                           0.87       721\n",
      "   macro avg       0.58      0.70      0.60       721\n",
      "weighted avg       0.94      0.87      0.90       721\n",
      "\n"
     ]
    }
   ],
   "execution_count": 34
  },
  {
   "metadata": {},
   "cell_type": "markdown",
   "source": "### HPT for Voting Classifier (soft)",
   "id": "cf2ecac100992778"
  },
  {
   "metadata": {
    "ExecuteTime": {
     "end_time": "2024-11-01T16:49:46.934917Z",
     "start_time": "2024-11-01T16:49:14.856870Z"
    }
   },
   "cell_type": "code",
   "source": [
    "# Define parameter grid for each model\n",
    "param_grid = {\n",
    "    'rf__n_estimators': [50, 100, 200],\n",
    "    'rf__max_depth': [None, 10, 20],\n",
    "    'dt__max_depth': [None, 10, 20],\n",
    "    'log__C': [0.01, 0.1, 1, 10],\n",
    "}\n",
    "\n",
    "# Create the Voting Classifier\n",
    "voting_clf = VotingClassifier(\n",
    "    estimators=[\n",
    "        ('rf', rf_model),\n",
    "        ('gb', gb_model),\n",
    "        ('dt', dt_model),\n",
    "        ('log', log_model)\n",
    "    ],\n",
    "    voting='soft'\n",
    ")\n",
    "\n",
    "# Set up GridSearchCV\n",
    "grid_search = GridSearchCV(voting_clf, param_grid, cv=5, scoring='f1_weighted', n_jobs=-1)\n",
    "grid_search.fit(X_train_res, y_train_res)\n",
    "\n",
    "# Best parameters and score\n",
    "print(\"Best parameters found: \", grid_search.best_params_)\n",
    "print(\"Best cross-validation score: \", grid_search.best_score_)\n",
    "\n",
    "# Evaluate the best estimator\n",
    "best_model = grid_search.best_estimator_\n",
    "y_pred_best = best_model.predict(X_test)\n",
    "\n",
    "# Print classification report for the best model\n",
    "print(\"Best Voting Classifier Report:\")\n",
    "print(classification_report(y_test, y_pred_best))"
   ],
   "id": "f3077c4177f96907",
   "outputs": [
    {
     "name": "stdout",
     "output_type": "stream",
     "text": [
      "Best parameters found:  {'dt__max_depth': 10, 'log__C': 1, 'rf__max_depth': None, 'rf__n_estimators': 200}\n",
      "Best cross-validation score:  0.9623751782158433\n",
      "Best Voting Classifier Report:\n",
      "              precision    recall  f1-score   support\n",
      "\n",
      "           0       0.97      0.86      0.91       687\n",
      "           1       0.15      0.50      0.23        34\n",
      "\n",
      "    accuracy                           0.84       721\n",
      "   macro avg       0.56      0.68      0.57       721\n",
      "weighted avg       0.93      0.84      0.88       721\n",
      "\n"
     ]
    }
   ],
   "execution_count": 35
  },
  {
   "metadata": {},
   "cell_type": "markdown",
   "source": "### HPT for Voting Classifier (soft) with different weights",
   "id": "7ccbfa6c1be2c991"
  },
  {
   "metadata": {
    "ExecuteTime": {
     "end_time": "2024-11-01T16:53:23.350703Z",
     "start_time": "2024-11-01T16:50:11.320723Z"
    }
   },
   "cell_type": "code",
   "source": [
    "# Define a more comprehensive parameter grid\n",
    "param_grid = {\n",
    "    'rf__n_estimators': [50, 100, 200, 300],\n",
    "    'rf__max_depth': [None, 10, 20, 30],\n",
    "    'dt__max_depth': [None, 10, 20, 30],\n",
    "    'log__C': [0.001, 0.01, 0.1, 1, 10],\n",
    "    'gb__n_estimators': [100, 200],\n",
    "}\n",
    "\n",
    "# Voting classifier with weighted estimators\n",
    "voting_clf = VotingClassifier(\n",
    "    estimators=[\n",
    "        ('rf', rf_model),\n",
    "        ('gb', gb_model),\n",
    "        ('dt', dt_model),\n",
    "        ('log', log_model)\n",
    "    ],\n",
    "    voting='soft',\n",
    "    weights=[1, 2, 1, 1]  # Adjust weights based on prior performance\n",
    ")\n",
    "\n",
    "# Set up GridSearchCV with a broader grid\n",
    "grid_search = GridSearchCV(voting_clf, param_grid, cv=5, scoring='f1_weighted', n_jobs=-1)\n",
    "grid_search.fit(X_train_res, y_train_res)\n",
    "\n",
    "# Check results\n",
    "print(\"Best parameters found: \", grid_search.best_params_)\n",
    "print(\"Best cross-validation score: \", grid_search.best_score_)\n",
    "print(classification_report(y_test, y_pred_best))"
   ],
   "id": "403b4e4a09014fed",
   "outputs": [
    {
     "name": "stdout",
     "output_type": "stream",
     "text": [
      "Best parameters found:  {'dt__max_depth': None, 'gb__n_estimators': 200, 'log__C': 0.01, 'rf__max_depth': None, 'rf__n_estimators': 300}\n",
      "Best cross-validation score:  0.9687231701102712\n",
      "              precision    recall  f1-score   support\n",
      "\n",
      "           0       0.97      0.86      0.91       687\n",
      "           1       0.15      0.50      0.23        34\n",
      "\n",
      "    accuracy                           0.84       721\n",
      "   macro avg       0.56      0.68      0.57       721\n",
      "weighted avg       0.93      0.84      0.88       721\n",
      "\n"
     ]
    }
   ],
   "execution_count": 36
  }
 ],
 "metadata": {
  "kernelspec": {
   "display_name": "Python 3",
   "language": "python",
   "name": "python3"
  },
  "language_info": {
   "codemirror_mode": {
    "name": "ipython",
    "version": 2
   },
   "file_extension": ".py",
   "mimetype": "text/x-python",
   "name": "python",
   "nbconvert_exporter": "python",
   "pygments_lexer": "ipython2",
   "version": "2.7.6"
  }
 },
 "nbformat": 4,
 "nbformat_minor": 5
}
