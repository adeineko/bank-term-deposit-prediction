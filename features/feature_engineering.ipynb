{
 "cells": [
  {
   "cell_type": "code",
   "execution_count": 19,
   "outputs": [],
   "source": [
    "import pandas as pd\n",
    "import matplotlib.pyplot as plt\n",
    "from scipy.stats import chi2_contingency\n",
    "from sklearn.feature_selection import mutual_info_classif"
   ],
   "metadata": {
    "collapsed": false
   }
  },
  {
   "cell_type": "markdown",
   "source": [],
   "metadata": {
    "collapsed": false
   }
  },
  {
   "cell_type": "code",
   "execution_count": 20,
   "metadata": {
    "collapsed": true
   },
   "outputs": [
    {
     "data": {
      "text/plain": "   age          job  marital  education default  balance housing loan  \\\n0   30   unemployed  married    primary      no     1787      no   no   \n1   33     services  married  secondary      no     4789     yes  yes   \n2   35   management   single   tertiary      no     1350     yes   no   \n3   30   management  married   tertiary      no     1476     yes  yes   \n4   59  blue-collar  married  secondary      no        0     yes   no   \n\n    contact  day month  duration  campaign  pdays  previous poutcome   y  \n0  cellular   19   oct        79         1     -1         0  unknown  no  \n1  cellular   11   may       220         1    339         4  failure  no  \n2  cellular   16   apr       185         1    330         1  failure  no  \n3   unknown    3   jun       199         4     -1         0  unknown  no  \n4   unknown    5   may       226         1     -1         0  unknown  no  ",
      "text/html": "<div>\n<style scoped>\n    .dataframe tbody tr th:only-of-type {\n        vertical-align: middle;\n    }\n\n    .dataframe tbody tr th {\n        vertical-align: top;\n    }\n\n    .dataframe thead th {\n        text-align: right;\n    }\n</style>\n<table border=\"1\" class=\"dataframe\">\n  <thead>\n    <tr style=\"text-align: right;\">\n      <th></th>\n      <th>age</th>\n      <th>job</th>\n      <th>marital</th>\n      <th>education</th>\n      <th>default</th>\n      <th>balance</th>\n      <th>housing</th>\n      <th>loan</th>\n      <th>contact</th>\n      <th>day</th>\n      <th>month</th>\n      <th>duration</th>\n      <th>campaign</th>\n      <th>pdays</th>\n      <th>previous</th>\n      <th>poutcome</th>\n      <th>y</th>\n    </tr>\n  </thead>\n  <tbody>\n    <tr>\n      <th>0</th>\n      <td>30</td>\n      <td>unemployed</td>\n      <td>married</td>\n      <td>primary</td>\n      <td>no</td>\n      <td>1787</td>\n      <td>no</td>\n      <td>no</td>\n      <td>cellular</td>\n      <td>19</td>\n      <td>oct</td>\n      <td>79</td>\n      <td>1</td>\n      <td>-1</td>\n      <td>0</td>\n      <td>unknown</td>\n      <td>no</td>\n    </tr>\n    <tr>\n      <th>1</th>\n      <td>33</td>\n      <td>services</td>\n      <td>married</td>\n      <td>secondary</td>\n      <td>no</td>\n      <td>4789</td>\n      <td>yes</td>\n      <td>yes</td>\n      <td>cellular</td>\n      <td>11</td>\n      <td>may</td>\n      <td>220</td>\n      <td>1</td>\n      <td>339</td>\n      <td>4</td>\n      <td>failure</td>\n      <td>no</td>\n    </tr>\n    <tr>\n      <th>2</th>\n      <td>35</td>\n      <td>management</td>\n      <td>single</td>\n      <td>tertiary</td>\n      <td>no</td>\n      <td>1350</td>\n      <td>yes</td>\n      <td>no</td>\n      <td>cellular</td>\n      <td>16</td>\n      <td>apr</td>\n      <td>185</td>\n      <td>1</td>\n      <td>330</td>\n      <td>1</td>\n      <td>failure</td>\n      <td>no</td>\n    </tr>\n    <tr>\n      <th>3</th>\n      <td>30</td>\n      <td>management</td>\n      <td>married</td>\n      <td>tertiary</td>\n      <td>no</td>\n      <td>1476</td>\n      <td>yes</td>\n      <td>yes</td>\n      <td>unknown</td>\n      <td>3</td>\n      <td>jun</td>\n      <td>199</td>\n      <td>4</td>\n      <td>-1</td>\n      <td>0</td>\n      <td>unknown</td>\n      <td>no</td>\n    </tr>\n    <tr>\n      <th>4</th>\n      <td>59</td>\n      <td>blue-collar</td>\n      <td>married</td>\n      <td>secondary</td>\n      <td>no</td>\n      <td>0</td>\n      <td>yes</td>\n      <td>no</td>\n      <td>unknown</td>\n      <td>5</td>\n      <td>may</td>\n      <td>226</td>\n      <td>1</td>\n      <td>-1</td>\n      <td>0</td>\n      <td>unknown</td>\n      <td>no</td>\n    </tr>\n  </tbody>\n</table>\n</div>"
     },
     "execution_count": 20,
     "metadata": {},
     "output_type": "execute_result"
    }
   ],
   "source": [
    "df = pd.read_csv(\"../dataset/bank.csv\", sep=\";\");df.head(5)"
   ]
  },
  {
   "cell_type": "markdown",
   "source": [
    "# remove duration"
   ],
   "metadata": {
    "collapsed": false
   }
  },
  {
   "cell_type": "code",
   "execution_count": 22,
   "outputs": [
    {
     "name": "stdout",
     "output_type": "stream",
     "text": [
      "Total number of -1's in pdays column: 3705\n",
      "Total number of people contacted before: 816\n"
     ]
    }
   ],
   "source": [
    "total_negative_ones = (df['pdays'] == -1).sum()\n",
    "\n",
    "print(\"Total number of -1's in pdays column:\", total_negative_ones)\n",
    "total_rows = df['pdays'].count()\n",
    "contacted_before = total_rows - total_negative_ones\n",
    "\n",
    "print(\"Total number of people contacted before:\", contacted_before)"
   ],
   "metadata": {
    "collapsed": false
   }
  },
  {
   "cell_type": "markdown",
   "source": [],
   "metadata": {
    "collapsed": false
   }
  },
  {
   "cell_type": "code",
   "execution_count": 23,
   "outputs": [
    {
     "name": "stdout",
     "output_type": "stream",
     "text": [
      "Missing values in DataFrame before processing:\n",
      " age          0\n",
      "job          0\n",
      "marital      0\n",
      "education    0\n",
      "default      0\n",
      "balance      0\n",
      "housing      0\n",
      "loan         0\n",
      "contact      0\n",
      "day          0\n",
      "month        0\n",
      "duration     0\n",
      "campaign     0\n",
      "pdays        0\n",
      "previous     0\n",
      "poutcome     0\n",
      "y            0\n",
      "dtype: int64\n",
      "Data types before conversion:\n",
      " age           int64\n",
      "job          object\n",
      "marital      object\n",
      "education    object\n",
      "default      object\n",
      "balance       int64\n",
      "housing      object\n",
      "loan         object\n",
      "contact      object\n",
      "day           int64\n",
      "month        object\n",
      "duration      int64\n",
      "campaign      int64\n",
      "pdays         int64\n",
      "previous      int64\n",
      "poutcome     object\n",
      "y            object\n",
      "dtype: object\n",
      "\n",
      "Check for NaN values in numerical features before conversion:\n",
      " age         0\n",
      "balance     0\n",
      "duration    0\n",
      "campaign    0\n",
      "pdays       0\n",
      "previous    0\n",
      "dtype: int64\n"
     ]
    }
   ],
   "source": [
    "print(\"Missing values in DataFrame before processing:\\n\", df.isnull().sum())\n",
    "\n",
    "print(\"Data types before conversion:\\n\", df.dtypes)\n",
    "\n",
    "# Split the data into features and target variable\n",
    "X = df.drop(['y'], axis=1)  # Features (drop 'id' and 'y' from features)\n",
    "y = df['y']  # Target variable\n",
    "\n",
    "# Convert categorical features to 'category' type\n",
    "categorical_cols = ['job', 'marital', 'education', 'default', 'housing', 'loan', 'contact', 'day', 'month', 'poutcome']\n",
    "X[categorical_cols] = X[categorical_cols].astype('category')\n",
    "# Ensure numerical columns are of the correct type\n",
    "numerical_cols = ['age', 'balance', 'duration', 'campaign', 'pdays', 'previous']\n",
    "# Check for NaN values in numerical features\n",
    "print(\"\\nCheck for NaN values in numerical features before conversion:\\n\", df[numerical_cols].isnull().sum())\n",
    "#\n",
    "# # 1. Correlation\n",
    "# # For correlation, we need to convert categorical variables to numerical (dummy variables)\n",
    "# correlation = df.select_dtypes(include=['int64', 'float64']).corr()['y'].abs().sort_values(ascending=False)\n",
    "# print(\"Correlation with target:\\n\", correlation)\n",
    "#\n",
    "# # 2. Chi-square test for categorical features\n",
    "# chi2_results = {}\n",
    "# for column in categorical_cols:  # Consider only categorical features\n",
    "#     contingency_table = pd.crosstab(X[column], y)\n",
    "#     chi2_stat, p_val, dof, expected = chi2_contingency(contingency_table)\n",
    "#     chi2_results[column] = chi2_stat\n",
    "#\n",
    "# chi2_results = sorted(chi2_results.items(), key=lambda x: x[1], reverse=True)\n",
    "# print(\"\\nChi-square results:\\n\", chi2_results)\n",
    "#\n",
    "# # 3. Mutual Information\n",
    "# X_numeric = X.select_dtypes(include=['int64', 'float64'])\n",
    "# mutual_info = mutual_info_classif(X_numeric, y, discrete_features=True)\n",
    "# mutual_info_series = pd.Series(mutual_info, index=X_numeric.columns).sort_values(ascending=False)\n",
    "# print(\"\\nMutual Information:\\n\", mutual_info_series)\n",
    "#\n",
    "# # Combining results\n",
    "# combined_results = pd.DataFrame({\n",
    "#     'Correlation': correlation,\n",
    "#     'Chi2': pd.Series(dict(chi2_results)).reindex(X.columns, fill_value=0),\n",
    "#     'Mutual Information': mutual_info_series\n",
    "# })\n",
    "#\n",
    "# # Return best features based on a threshold or top N\n",
    "# top_features = combined_results.sort_values(by='Correlation', ascending=False)\n",
    "# print(\"\\nTop features based on correlation:\\n\", top_features)"
   ],
   "metadata": {
    "collapsed": false
   }
  }
 ],
 "metadata": {
  "kernelspec": {
   "display_name": "Python 3",
   "language": "python",
   "name": "python3"
  },
  "language_info": {
   "codemirror_mode": {
    "name": "ipython",
    "version": 2
   },
   "file_extension": ".py",
   "mimetype": "text/x-python",
   "name": "python",
   "nbconvert_exporter": "python",
   "pygments_lexer": "ipython2",
   "version": "2.7.6"
  }
 },
 "nbformat": 4,
 "nbformat_minor": 0
}
