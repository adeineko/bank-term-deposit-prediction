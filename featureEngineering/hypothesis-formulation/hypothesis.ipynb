{
 "cells": [
  {
   "cell_type": "code",
   "execution_count": 2,
   "outputs": [
    {
     "name": "stdout",
     "output_type": "stream",
     "text": [
      "<class 'pandas.core.frame.DataFrame'>\n",
      "RangeIndex: 2403 entries, 0 to 2402\n",
      "Data columns (total 17 columns):\n",
      " #   Column     Non-Null Count  Dtype  \n",
      "---  ------     --------------  -----  \n",
      " 0   age        2403 non-null   int64  \n",
      " 1   job        2403 non-null   object \n",
      " 2   marital    2403 non-null   object \n",
      " 3   education  2403 non-null   object \n",
      " 4   default    2403 non-null   object \n",
      " 5   balance    2403 non-null   float64\n",
      " 6   housing    2403 non-null   object \n",
      " 7   loan       2403 non-null   object \n",
      " 8   contact    2403 non-null   object \n",
      " 9   day        2403 non-null   int64  \n",
      " 10  month      2403 non-null   object \n",
      " 11  duration   2403 non-null   int64  \n",
      " 12  campaign   2403 non-null   int64  \n",
      " 13  pdays      2403 non-null   int64  \n",
      " 14  previous   2403 non-null   int64  \n",
      " 15  poutcome   2403 non-null   object \n",
      " 16  y          2403 non-null   object \n",
      "dtypes: float64(1), int64(6), object(10)\n",
      "memory usage: 319.3+ KB\n",
      "Index(['age', 'job', 'marital', 'education', 'default', 'balance', 'housing',\n",
      "       'loan', 'day', 'month', 'duration', 'campaign', 'pdays', 'previous',\n",
      "       'poutcome', 'y', 'contact_cellular', 'contact_telephone',\n",
      "       'contact_unknown'],\n",
      "      dtype='object')\n"
     ]
    }
   ],
   "source": [
    "import pandas as pd\n",
    "import numpy as np\n",
    "import matplotlib.pyplot as plt\n",
    "\n",
    "# Load data\n",
    "data = pd.read_csv(\"../../dataset/cleaned_bank.csv\", delimiter=',')\n",
    "data.info()\n",
    "\n",
    "# Separate target from the features\n",
    "X = data.copy()\n",
    "y = X.pop(\"y\")  # target feature\n",
    "\n",
    "# One-hot encoding for categorical variables\n",
    "data = pd.get_dummies(data, columns=['contact'], drop_first=False)  # Drop_first=False keeps all categories\n",
    "\n",
    "# Check if all discrete features are integers\n",
    "discrete_features = X.dtypes.apply(lambda dtype: np.issubdtype(dtype, np.integer))\n",
    "\n",
    "print(data.columns)\n"
   ],
   "metadata": {
    "collapsed": false,
    "ExecuteTime": {
     "end_time": "2024-10-17T09:38:12.433725600Z",
     "start_time": "2024-10-17T09:38:12.378414200Z"
    }
   },
   "id": "70db531003795a4"
  },
  {
   "cell_type": "markdown",
   "source": [
    "Null Hypothesis (H₀): The call duration has no effect on whether a client subscribes to a term deposit.\n",
    "Alternative Hypothesis (H₁): Clients who spend more time on the call are more likely to subscribe to a term deposit."
   ],
   "metadata": {
    "collapsed": false
   },
   "id": "36ed8645744d6c03"
  },
  {
   "cell_type": "code",
   "execution_count": 3,
   "outputs": [
    {
     "name": "stdout",
     "output_type": "stream",
     "text": [
      "T-statistic: 10.130192176435559, P-value: 1.2035913858915565e-23\n"
     ]
    }
   ],
   "source": [
    "from scipy.stats import ttest_ind\n",
    "\n",
    "# Split data into subscribed and not subscribed groups\n",
    "subscribed = data[data['y'] == 'yes']['duration']\n",
    "not_subscribed = data[data['y'] == 'no']['duration']\n",
    "\n",
    "# Perform a t-test\n",
    "t_stat, p_value = ttest_ind(subscribed, not_subscribed)\n",
    "\n",
    "# Output the results\n",
    "print(f\"T-statistic: {t_stat}, P-value: {p_value}\")\n"
   ],
   "metadata": {
    "collapsed": false,
    "ExecuteTime": {
     "end_time": "2024-10-17T09:38:18.267898500Z",
     "start_time": "2024-10-17T09:38:18.221235900Z"
    }
   },
   "id": "4b93f055ec7bebd9"
  },
  {
   "cell_type": "code",
   "execution_count": null,
   "outputs": [],
   "source": [],
   "metadata": {
    "collapsed": false
   },
   "id": "1d68a4a24cc723ea"
  }
 ],
 "metadata": {
  "kernelspec": {
   "display_name": "Python 3",
   "language": "python",
   "name": "python3"
  },
  "language_info": {
   "codemirror_mode": {
    "name": "ipython",
    "version": 2
   },
   "file_extension": ".py",
   "mimetype": "text/x-python",
   "name": "python",
   "nbconvert_exporter": "python",
   "pygments_lexer": "ipython2",
   "version": "2.7.6"
  }
 },
 "nbformat": 4,
 "nbformat_minor": 5
}
